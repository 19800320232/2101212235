{
 "cells": [
  {
   "cell_type": "code",
   "execution_count": 2,
   "id": "ed52577b",
   "metadata": {},
   "outputs": [],
   "source": [
    "import pandas as pd\n",
    "import numpy as np\n",
    "from scipy.stats.mstats import winsorize\n",
    "from sklearn.decomposition import PCA\n",
    "from sklearn.model_selection import train_test_split\n",
    "from sklearn.preprocessing import StandardScaler\n",
    "from sklearn.model_selection import GridSearchCV\n",
    "from sklearn import svm\n",
    "from sklearn.model_selection import cross_val_score\n",
    "from sklearn.model_selection import KFold\n",
    "from sklearn.pipeline import Pipeline\n",
    "from mlxtend.plotting import plot_decision_regions"
   ]
  },
  {
   "cell_type": "code",
   "execution_count": 3,
   "id": "28ab777d",
   "metadata": {},
   "outputs": [],
   "source": [
    "# Load Data\n",
    "cs_training = pd.read_csv('../cs-training.csv', index_col = 0)\n",
    "cs_test = pd.read_csv('../cs-test.csv', index_col = 0)\n",
    "\n",
    "# Winsorize and fill nan\n",
    "cs_training = cs_training.apply(lambda x:winsorize(x.fillna(x.mean()), limits = [0.03, 0.03]), axis = 0)\n",
    "cs_test = cs_test.apply(lambda x:x.fillna(x.mean()), axis = 0)\n",
    "\n",
    "# split dataset\n",
    "X_train, X_valid, y_train, y_valid = train_test_split(cs_training.iloc[:, 1:].values, cs_training.iloc[:, 0].values, test_size = 0.3, random_state=0)\n",
    "X_test = cs_test.iloc[:, 1:].values"
   ]
  },
  {
   "cell_type": "code",
   "execution_count": 4,
   "id": "91565e36",
   "metadata": {},
   "outputs": [],
   "source": [
    "# Classification fitting\n",
    "clf = svm.SVC(C=1,kernel='poly',gamma='auto',decision_function_shape='ovr', max_iter = 500)#设置训练器\n",
    " "
   ]
  },
  {
   "cell_type": "code",
   "execution_count": 10,
   "id": "c6eb17e3",
   "metadata": {},
   "outputs": [
    {
     "name": "stderr",
     "output_type": "stream",
     "text": [
      "C:\\Users\\gong1078899525\\Anaconda3\\lib\\site-packages\\sklearn\\svm\\_base.py:284: ConvergenceWarning: Solver terminated early (max_iter=500).  Consider pre-processing your data with StandardScaler or MinMaxScaler.\n",
      "  warnings.warn(\n"
     ]
    },
    {
     "data": {
      "text/plain": [
       "Pipeline(steps=[('sc', StandardScaler()), ('pca', PCA(n_components=3)),\n",
       "                ('grid',\n",
       "                 GridSearchCV(cv=5,\n",
       "                              estimator=SVC(C=1, gamma='auto', kernel='poly',\n",
       "                                            max_iter=500),\n",
       "                              n_jobs=8,\n",
       "                              param_grid={'C': [1e-05, 0.16667500000000002,\n",
       "                                                0.33334, 0.500005, 0.66667,\n",
       "                                                0.833335, 1.0],\n",
       "                                          'gamma': array([1.0000e-02, 1.6675e+01, 3.3340e+01, 5.0005e+01, 6.6670e+01,\n",
       "       8.3335e+01, 1.0000e+02])}))])"
      ]
     },
     "execution_count": 10,
     "metadata": {},
     "output_type": "execute_result"
    }
   ],
   "source": [
    "# Hyperparameters\n",
    "param_grid = {'C': np.linspace(1e-5, 1, 7).tolist(), 'gamma': np.linspace(1e-2, 100, 7)}\n",
    "\n",
    "# Pipelines\n",
    "num_pipeline = Pipeline([('sc', StandardScaler()), \n",
    "                         ('pca', PCA(n_components=3)), \n",
    "                         ('grid', GridSearchCV(clf, param_grid, cv=5, n_jobs = 8))])\n",
    "num_pipeline.fit(X_train, y_train)"
   ]
  },
  {
   "cell_type": "code",
   "execution_count": 11,
   "id": "908da2b2",
   "metadata": {},
   "outputs": [
    {
     "data": {
      "text/plain": [
       "SVC(C=0.66667, gamma=83.335, kernel='poly', max_iter=500)"
      ]
     },
     "execution_count": 11,
     "metadata": {},
     "output_type": "execute_result"
    }
   ],
   "source": [
    "# Get the optimal SVM and PCA\n",
    "optimal_SVM = num_pipeline.get_params()['grid'].best_estimator_\n",
    "pca = num_pipeline.get_params()['pca']\n",
    "optimal_SVM"
   ]
  },
  {
   "cell_type": "code",
   "execution_count": 12,
   "id": "e1ac848c",
   "metadata": {},
   "outputs": [
    {
     "name": "stdout",
     "output_type": "stream",
     "text": [
      "The precision in validation dataset:0.93\n"
     ]
    }
   ],
   "source": [
    "## the prediction precision in validation\n",
    "valid_result = optimal_SVM.predict(pca.transform(X_valid))\n",
    "precision = np.sum(valid_result == y_valid)/y_valid.shape[0]## test集合验证\n",
    "print('The precision in validation dataset:{:.2f}'.format(precision))\n",
    "test_result = optimal_SVM.predict(pca.transform(X_test))"
   ]
  },
  {
   "cell_type": "code",
   "execution_count": 8,
   "id": "a57f2b2c",
   "metadata": {},
   "outputs": [
    {
     "name": "stdout",
     "output_type": "stream",
     "text": [
      "[0 0 0 ... 0 0 0]\n"
     ]
    }
   ],
   "source": [
    "print(test_result)"
   ]
  },
  {
   "cell_type": "code",
   "execution_count": null,
   "id": "b6d390fb",
   "metadata": {},
   "outputs": [],
   "source": []
  }
 ],
 "metadata": {
  "kernelspec": {
   "display_name": "Python 3 (ipykernel)",
   "language": "python",
   "name": "python3"
  },
  "language_info": {
   "codemirror_mode": {
    "name": "ipython",
    "version": 3
   },
   "file_extension": ".py",
   "mimetype": "text/x-python",
   "name": "python",
   "nbconvert_exporter": "python",
   "pygments_lexer": "ipython3",
   "version": "3.9.12"
  }
 },
 "nbformat": 4,
 "nbformat_minor": 5
}
